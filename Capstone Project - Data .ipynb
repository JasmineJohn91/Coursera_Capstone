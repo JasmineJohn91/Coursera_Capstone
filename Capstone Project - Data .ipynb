{
 "cells": [
  {
   "cell_type": "markdown",
   "metadata": {},
   "source": [
    "<h1><center> Applied Data Science Capstone Project - Analyse Airbnb Data </center></h1>"
   ]
  },
  {
   "cell_type": "markdown",
   "metadata": {},
   "source": [
    "## Data"
   ]
  },
  {
   "cell_type": "markdown",
   "metadata": {
    "collapsed": true
   },
   "source": [
    "### 1. Data source\n",
    "Open Data Site:https://www.kaggle.com/dgomonov/new-york-city-airbnb-open-data<br>\n",
    "Foursquare Developers Access to venue data: https://foursquare.com/ <br>\n",
    "I have used this data to expore and examine answer to the questions in Introduction. The neighbourhood data will enable us to properly group the required details. "
   ]
  },
  {
   "cell_type": "markdown",
   "metadata": {},
   "source": [
    "### 1.1 Context\n",
    "Since 2008, guests and hosts have used Airbnb to expand on traveling possibilities and present more unique, personalized way of experiencing the world. \n",
    "This dataset describes the listing activity and metrics in NYC, NY for 2019."
   ]
  },
  {
   "attachments": {},
   "cell_type": "markdown",
   "metadata": {},
   "source": [
    "### 1.2 Content\n",
    "\"AB_NYC_2019\" - Summary information and metrics for listings in New York City. It is good for exploration, visualizations and predictions.This data file includes all needed information to find out more about hosts, geographical availability, necessary metrics to make predictions and draw conclusions.\n",
    "\n",
    "#### Columns:\n",
    "id<br>\n",
    "name<br>\n",
    "host_id<br>\n",
    "host_name<br>\n",
    "neighbourhood_group<br>\n",
    "neighbourhood<br>\n",
    "latitude<br>\n",
    "longitude<br>\n",
    "room_type<br>\n",
    "price<br>\n",
    "minimum_nights<br>\n",
    "number_of_reviews<br>\n",
    "last_review<br>\n",
    "reviews_per_month<br>\n",
    "calculated_host_listings_count<br>"
   ]
  },
  {
   "cell_type": "markdown",
   "metadata": {},
   "source": [
    "### 2. Data Extraction and visualization"
   ]
  },
  {
   "cell_type": "markdown",
   "metadata": {},
   "source": [
    "- Data is extracted from AB_NYC_2019.csv file into pandas data frame and used for analysis. \n",
    "- Foursquare API is used to get venues using latitude and langtitude\n",
    "- Matplotlib is used to project data visualizations\n",
    "- Folium map is used to project visualizations using choropleth map"
   ]
  },
  {
   "cell_type": "code",
   "execution_count": null,
   "metadata": {},
   "outputs": [],
   "source": []
  }
 ],
 "metadata": {
  "kernelspec": {
   "display_name": "Python 3.6",
   "language": "python",
   "name": "python3"
  },
  "language_info": {
   "codemirror_mode": {
    "name": "ipython",
    "version": 3
   },
   "file_extension": ".py",
   "mimetype": "text/x-python",
   "name": "python",
   "nbconvert_exporter": "python",
   "pygments_lexer": "ipython3",
   "version": "3.6.9"
  }
 },
 "nbformat": 4,
 "nbformat_minor": 1
}
