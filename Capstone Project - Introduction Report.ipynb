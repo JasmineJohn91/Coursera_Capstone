{
 "cells": [
  {
   "cell_type": "markdown",
   "metadata": {
    "collapsed": true
   },
   "source": [
    "<h1><center> Applied Data Science Capstone Project - Analyse Airbnb Data </center></h1>"
   ]
  },
  {
   "cell_type": "markdown",
   "metadata": {},
   "source": [
    "## Introduction"
   ]
  },
  {
   "cell_type": "markdown",
   "metadata": {},
   "source": [
    "### Problem Background "
   ]
  },
  {
   "cell_type": "markdown",
   "metadata": {},
   "source": [
    "In this project we are going to focus on Airbnb data in New York city. New York, also known as the *Big Apple*, is a city which offers infinite things to do and places to see. To make the most of your holidays, preparing your trip well and a good guide of the city are essential.New York City is known for. Art Museums; Places of Worship; Staying Up Late; Skyline Views; Green Spaces; Historic Sights; Venturing off the Beaten Path.  *Airbnb* can be a great tool for making travel easier, more pleasant and less expensive. Rather than staying at a hotel and paying hotel prices, you can often pay substantially less for more space and usually have a better selection of locations in larger cities. "
   ]
  },
  {
   "cell_type": "markdown",
   "metadata": {},
   "source": [
    "### Problem Description"
   ]
  },
  {
   "cell_type": "markdown",
   "metadata": {},
   "source": [
    "#### Few questions that I aim to answer through my analysis:"
   ]
  },
  {
   "cell_type": "markdown",
   "metadata": {},
   "source": [
    "1. Which place have got high reviews in each neighbourhood group?\n",
    "2. Do price and number of reviews are related?\n",
    "3. Which area is expensive in Queen neighbourhood group?\n",
    "4. Which better place I can choose to stay in Queen neighbourhood group so expenses are less?\n",
    "5. Near by interesting places from my stay"
   ]
  },
  {
   "cell_type": "code",
   "execution_count": null,
   "metadata": {},
   "outputs": [],
   "source": []
  }
 ],
 "metadata": {
  "kernelspec": {
   "display_name": "Python 3.6",
   "language": "python",
   "name": "python3"
  },
  "language_info": {
   "codemirror_mode": {
    "name": "ipython",
    "version": 3
   },
   "file_extension": ".py",
   "mimetype": "text/x-python",
   "name": "python",
   "nbconvert_exporter": "python",
   "pygments_lexer": "ipython3",
   "version": "3.6.9"
  }
 },
 "nbformat": 4,
 "nbformat_minor": 1
}
