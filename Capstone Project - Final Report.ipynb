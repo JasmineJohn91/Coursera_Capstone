{
 "cells": [
  {
   "cell_type": "markdown",
   "metadata": {},
   "source": [
    "<h1><center> Applied Data Science Capstone Project - Analyse Airbnb Data </center></h1>"
   ]
  },
  {
   "cell_type": "markdown",
   "metadata": {},
   "source": [
    "## Introduction"
   ]
  },
  {
   "cell_type": "markdown",
   "metadata": {},
   "source": [
    "### Problem Background "
   ]
  },
  {
   "cell_type": "markdown",
   "metadata": {},
   "source": [
    "In this project we are going to focus on Airbnb data in New York city. New York, also known as the *Big Apple*, is a city which offers infinite things to do and places to see. To make the most of your holidays, preparing your trip well and a good guide of the city are essential.New York City is known for. Art Museums; Places of Worship; Staying Up Late; Skyline Views; Green Spaces; Historic Sights; Venturing off the Beaten Path.  *Airbnb* can be a great tool for making travel easier, more pleasant and less expensive. Rather than staying at a hotel and paying hotel prices, you can often pay substantially less for more space and usually have a better selection of locations in larger cities. "
   ]
  },
  {
   "cell_type": "markdown",
   "metadata": {},
   "source": [
    "### Problem Description\n",
    "\n",
    "A person who travels to newyork may have questions about places to stay. This data science project analyse the previous reviews from guest and predict few insights from data"
   ]
  },
  {
   "cell_type": "markdown",
   "metadata": {},
   "source": [
    "#### Few questions that I aim to answer through my analysis:"
   ]
  },
  {
   "cell_type": "markdown",
   "metadata": {},
   "source": [
    "1. Which place have got high reviews in each neighbourhood group?\n",
    "2. Do price and number of reviews are related?\n",
    "3. Which area is expensive in Queen neighbourhood group?\n",
    "4. Which better place I can choose to stay in Queen neighbourhood group so expenses are less?\n",
    "5. Near by interesting places from my stay"
   ]
  },
  {
   "cell_type": "markdown",
   "metadata": {},
   "source": [
    "## Target audience :\n",
    "Target audiences for this project who travel frequent and want to choose better place to stay. Mose of the People always want to choose cheap and better place so this project also target the same.\n",
    "\n"
   ]
  },
  {
   "cell_type": "markdown",
   "metadata": {},
   "source": [
    "## Data"
   ]
  },
  {
   "cell_type": "markdown",
   "metadata": {},
   "source": [
    "### 1. Data source\n",
    "Open Data Site:https://www.kaggle.com/dgomonov/new-york-city-airbnb-open-data<br>\n",
    "Foursquare Developers Access to venue data: https://foursquare.com/ <br>\n",
    "I have used this data to expore and examine answer to the questions in Introduction. The neighbourhood data will enable us to properly group the required details. "
   ]
  },
  {
   "cell_type": "markdown",
   "metadata": {},
   "source": [
    "### 1.1 Context\n",
    "Since 2008, guests and hosts have used Airbnb to expand on traveling possibilities and present more unique, personalized way of experiencing the world. \n",
    "This dataset describes the listing activity and metrics in NYC, NY for 2019."
   ]
  },
  {
   "cell_type": "markdown",
   "metadata": {},
   "source": [
    "### 1.2 Content\n",
    "\"AB_NYC_2019\" - Summary information and metrics for listings in New York City. It is good for exploration, visualizations and predictions.This data file includes all needed information to find out more about hosts, geographical availability, necessary metrics to make predictions and draw conclusions.\n",
    "\n",
    "#### Columns:\n",
    "id<br>\n",
    "name<br>\n",
    "host_id<br>\n",
    "host_name<br>\n",
    "neighbourhood_group<br>\n",
    "neighbourhood<br>\n",
    "latitude<br>\n",
    "longitude<br>\n",
    "room_type<br>\n",
    "price<br>\n",
    "minimum_nights<br>\n",
    "number_of_reviews<br>\n",
    "last_review<br>\n",
    "reviews_per_month<br>\n",
    "calculated_host_listings_count<br>"
   ]
  },
  {
   "cell_type": "markdown",
   "metadata": {},
   "source": [
    "### 2. Data Extraction and visualization"
   ]
  },
  {
   "cell_type": "markdown",
   "metadata": {},
   "source": [
    "- Data is extracted from AB_NYC_2019.csv file into pandas data frame and used for analysis. \n",
    "- Foursquare API is used to get venues using latitude and langtitude\n",
    "- Matplotlib is used to project data visualizations\n",
    "- Folium map is used to project visualizations using choropleth map"
   ]
  },
  {
   "cell_type": "markdown",
   "metadata": {},
   "source": [
    "## 3. Methodology"
   ]
  },
  {
   "cell_type": "markdown",
   "metadata": {},
   "source": [
    "- Understand the business requirement and problem. \n",
    "- Collect the required data\n",
    "- Analyse the data using visualization and statistics\n",
    "- Provide insights based on the analysis"
   ]
  },
  {
   "cell_type": "markdown",
   "metadata": {},
   "source": [
    "### 3.1 Extract Data"
   ]
  },
  {
   "cell_type": "code",
   "execution_count": 13,
   "metadata": {},
   "outputs": [],
   "source": [
    "from IPython.display import Image\n",
    "from IPython.core.display import HTML \n"
   ]
  },
  {
   "cell_type": "code",
   "execution_count": 14,
   "metadata": {},
   "outputs": [
    {
     "data": {
      "text/html": [
       "<img src=\"DataFrame.PNG\"/>"
      ],
      "text/plain": [
       "<IPython.core.display.Image object>"
      ]
     },
     "execution_count": 14,
     "metadata": {},
     "output_type": "execute_result"
    }
   ],
   "source": [
    "Image(url= \"DataFrame.PNG\")"
   ]
  },
  {
   "cell_type": "markdown",
   "metadata": {},
   "source": [
    "### 3.2 Number of bookings per neighbourhood group"
   ]
  },
  {
   "cell_type": "code",
   "execution_count": 15,
   "metadata": {},
   "outputs": [
    {
     "data": {
      "text/html": [
       "<img src=\"piechart.PNG\"/>"
      ],
      "text/plain": [
       "<IPython.core.display.Image object>"
      ]
     },
     "execution_count": 15,
     "metadata": {},
     "output_type": "execute_result"
    }
   ],
   "source": [
    "Image(url= \"piechart.PNG\")"
   ]
  },
  {
   "cell_type": "markdown",
   "metadata": {},
   "source": [
    "- Mahattan have high number of bookings \n",
    "- Staten Island have less number of bookings"
   ]
  },
  {
   "cell_type": "markdown",
   "metadata": {},
   "source": [
    "### 3.3 Price vs Number of reviews"
   ]
  },
  {
   "cell_type": "code",
   "execution_count": 16,
   "metadata": {},
   "outputs": [
    {
     "data": {
      "text/html": [
       "<img src=\"scatterplot.PNG\"/>"
      ],
      "text/plain": [
       "<IPython.core.display.Image object>"
      ]
     },
     "execution_count": 16,
     "metadata": {},
     "output_type": "execute_result"
    }
   ],
   "source": [
    "Image(url= \"scatterplot.PNG\")"
   ]
  },
  {
   "cell_type": "markdown",
   "metadata": {},
   "source": [
    "From the image we understand that less expensive places have high number of reviews."
   ]
  },
  {
   "cell_type": "markdown",
   "metadata": {},
   "source": [
    "### 3.4 High expensive areas"
   ]
  },
  {
   "cell_type": "code",
   "execution_count": 17,
   "metadata": {},
   "outputs": [
    {
     "data": {
      "text/html": [
       "<img src=\"map.PNG\"/>"
      ],
      "text/plain": [
       "<IPython.core.display.Image object>"
      ]
     },
     "execution_count": 17,
     "metadata": {},
     "output_type": "execute_result"
    }
   ],
   "source": [
    "Image(url= \"map.PNG\")"
   ]
  },
  {
   "cell_type": "markdown",
   "metadata": {},
   "source": [
    "### 3.5 High reviews by neighbourhood group"
   ]
  },
  {
   "cell_type": "code",
   "execution_count": 19,
   "metadata": {},
   "outputs": [
    {
     "data": {
      "text/html": [
       "<img src=\"HighReviews.PNG\"/>"
      ],
      "text/plain": [
       "<IPython.core.display.Image object>"
      ]
     },
     "execution_count": 19,
     "metadata": {},
     "output_type": "execute_result"
    }
   ],
   "source": [
    "Image(url= \"HighReviews.PNG\")"
   ]
  },
  {
   "cell_type": "markdown",
   "metadata": {},
   "source": [
    "### 3.6 Places to visit near by *Room Near JFK Queen Bed*"
   ]
  },
  {
   "cell_type": "markdown",
   "metadata": {},
   "source": [
    "FourSqaure API is used to search for venues near by selected place's latitude and langtitude. Venues are grouped by categories"
   ]
  },
  {
   "cell_type": "code",
   "execution_count": 20,
   "metadata": {},
   "outputs": [
    {
     "data": {
      "text/html": [
       "<img src=\"PlacesToVisit.PNG\"/>"
      ],
      "text/plain": [
       "<IPython.core.display.Image object>"
      ]
     },
     "execution_count": 20,
     "metadata": {},
     "output_type": "execute_result"
    }
   ],
   "source": [
    "Image(url= \"PlacesToVisit.PNG\")"
   ]
  },
  {
   "cell_type": "markdown",
   "metadata": {},
   "source": [
    "### 3.7 Word Cloud - Queens Neighbourhood"
   ]
  },
  {
   "cell_type": "code",
   "execution_count": 21,
   "metadata": {},
   "outputs": [
    {
     "data": {
      "text/html": [
       "<img src=\"word cloud.PNG\"/>"
      ],
      "text/plain": [
       "<IPython.core.display.Image object>"
      ]
     },
     "execution_count": 21,
     "metadata": {},
     "output_type": "execute_result"
    }
   ],
   "source": [
    "Image(url= \"word cloud.PNG\")"
   ]
  },
  {
   "cell_type": "markdown",
   "metadata": {},
   "source": [
    "Word cloud describes frequently used places and nice feedback about those places.<br>\n",
    "*Interesting ones:*\n",
    "- Cozy\n",
    "- Beautiful\n",
    "- Spacious\n",
    "- Clean\n",
    "- Private\n",
    "- Modern\n",
    "- Bolcony\n",
    "- Mahattan\n"
   ]
  },
  {
   "cell_type": "markdown",
   "metadata": {},
   "source": [
    "### 4. Results"
   ]
  },
  {
   "cell_type": "markdown",
   "metadata": {},
   "source": [
    "1. Room near JFK Queen Bed is better place with high number of reviews and less price.\n",
    "2. Furnished room in Astoria apartment is highly expensive place in Queens nighbourhood group.\n",
    "3. Price and number of views are related. Less expensive places got many reviews when compared to high expensive. Scatter plot explains the fact."
   ]
  },
  {
   "cell_type": "markdown",
   "metadata": {},
   "source": [
    "### 5. Discussion and Recommendations"
   ]
  },
  {
   "cell_type": "markdown",
   "metadata": {},
   "source": [
    "Given the findings of the top 5 venues with high reviews , venues with less price would have given a basic idea about places and host to the guests. Yet its recommended to add data modelling to predict the price in particular neighbourhood. Will extend this project and analysis and implement model in next project"
   ]
  },
  {
   "cell_type": "markdown",
   "metadata": {},
   "source": [
    "### 6. Conclusion"
   ]
  },
  {
   "cell_type": "markdown",
   "metadata": {},
   "source": [
    "The Open Data project is a great start for beginners in data science. Its really helpful in analysing the data and produce good insights. "
   ]
  },
  {
   "cell_type": "code",
   "execution_count": null,
   "metadata": {},
   "outputs": [],
   "source": []
  }
 ],
 "metadata": {
  "kernelspec": {
   "display_name": "Python",
   "language": "python",
   "name": "conda-env-python-py"
  },
  "language_info": {
   "codemirror_mode": {
    "name": "ipython",
    "version": 3
   },
   "file_extension": ".py",
   "mimetype": "text/x-python",
   "name": "python",
   "nbconvert_exporter": "python",
   "pygments_lexer": "ipython3",
   "version": "3.6.10"
  }
 },
 "nbformat": 4,
 "nbformat_minor": 4
}
